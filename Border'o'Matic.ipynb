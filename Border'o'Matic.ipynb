{
 "cells": [
  {
   "cell_type": "code",
   "execution_count": 1,
   "id": "3ac78172",
   "metadata": {},
   "outputs": [],
   "source": [
    "import numpy as np\n",
    "import matplotlib.pyplot as plt\n",
    "\n",
    "from ipywidgets import interact, interactive, fixed, interact_manual\n",
    "import ipywidgets as widgets"
   ]
  },
  {
   "cell_type": "code",
   "execution_count": 2,
   "id": "bf38e766",
   "metadata": {},
   "outputs": [
    {
     "data": {
      "application/vnd.jupyter.widget-view+json": {
       "model_id": "4b66db1ed6104c0f945e222c2ab6ad73",
       "version_major": 2,
       "version_minor": 0
      },
      "text/plain": [
       "interactive(children=(FloatSlider(value=0.0, description='phi', max=3.2, min=-3.2, step=0.2), Output()), _dom_…"
      ]
     },
     "metadata": {},
     "output_type": "display_data"
    }
   ],
   "source": [
    "%matplotlib inline\n",
    "from ipywidgets import interact, FloatSlider\n",
    "\n",
    "## Definition of the plot_cos function, our \"callback function\".\n",
    "def plot_cos(phi):\n",
    "    ## Plot parameters\n",
    "    xmin, xmax, nx = 0.0, 10.0, 50\n",
    "    ymin, ymax     = -1.2, 1.2\n",
    "\n",
    "    ## Plot the figure\n",
    "    x = np.linspace(xmin, xmax, nx)\n",
    "    y = np.cos(x + phi)\n",
    "    plt.figure(figsize=(8,3))\n",
    "    plt.plot(x, y, linewidth=2)\n",
    "\n",
    "    ## Set up the figure axes, etc.\n",
    "    plt.title(\"y = np.cos(x + phi)\")\n",
    "    plt.xlim(xmin, xmax)\n",
    "    plt.ylim(ymin, ymax)\n",
    "    plt.xlabel('x')\n",
    "    plt.ylabel('y')\n",
    "\n",
    "## Generate our user interface.\n",
    "interact(plot_cos, phi=FloatSlider(min=-3.2, max=3.2, step=0.2, value=0.0));"
   ]
  },
  {
   "cell_type": "code",
   "execution_count": 3,
   "id": "cad29e57",
   "metadata": {},
   "outputs": [],
   "source": [
    "from matplotlib.collections import PatchCollection\n",
    "from matplotlib.patches import Rectangle"
   ]
  },
  {
   "cell_type": "code",
   "execution_count": 4,
   "id": "b0817c79",
   "metadata": {},
   "outputs": [],
   "source": [
    "def plot_rectangle(width, height):  # Everything Hardcoded\n",
    "\n",
    "    fig, ax = plt.subplots(1, 1)\n",
    "    #ax.axis(\"off\")\n",
    "\n",
    "    wmoffset = (0, 0)\n",
    "    infooffset = (0, 0)\n",
    "\n",
    "    dim = max(height, width)\n",
    "    #wmsize = min(dim / 4, width / 3)\n",
    "    wmsize = dim/4\n",
    "    ax.set_aspect('equal')\n",
    "\n",
    "    if width / height >= 2:\n",
    "        offset = (0, (dim - height) / 2)\n",
    "        wmoffset = (0, dim - wmsize)\n",
    "        infooffset = (dim - 2 * wmsize, dim - wmsize)\n",
    "\n",
    "    else:\n",
    "\n",
    "        print(\"In Special Domain!\")\n",
    "        dim = height + wmsize * 2  #\n",
    "        offset = ((dim - width) / 2, wmsize)\n",
    "        \n",
    "        if width / height >= 3/4:\n",
    "\n",
    "            wmoffset = ((dim - width) / 2, wmsize + height)\n",
    "            infooffset = ((dim + width) / 2 - 2 * wmsize, wmsize + height)\n",
    "        \n",
    "        else: \n",
    "            wmsizeOld = wmsize\n",
    "            wmsize = width/3\n",
    "            wmoffset = ((dim - width) / 2, wmsizeOld + height)\n",
    "            infooffset = ((dim - width) / 2 + wmsize, wmsizeOld + height)\n",
    "            \n",
    "        \n",
    "            \n",
    "\n",
    "    # Define Elements\n",
    "\n",
    "    bg = Rectangle((0, 0),\n",
    "                   dim,\n",
    "                   dim,\n",
    "                   linewidth=1,\n",
    "                   edgecolor='olive',\n",
    "                   facecolor='olive')\n",
    "\n",
    "    rect = Rectangle(offset,\n",
    "                     width,\n",
    "                     height,\n",
    "                     linewidth=1,\n",
    "                     edgecolor='gold',\n",
    "                     facecolor='gold')\n",
    "\n",
    "    rect2 = Rectangle(wmoffset,\n",
    "                      wmsize,\n",
    "                      wmsize,\n",
    "                      linewidth=0,\n",
    "                      edgecolor='r',\n",
    "                      facecolor='r')\n",
    "\n",
    "    rect3 = Rectangle(infooffset,\n",
    "                      2 * wmsize,\n",
    "                      wmsize,\n",
    "                      linewidth=0,\n",
    "                      edgecolor='g',\n",
    "                      facecolor='g')\n",
    "\n",
    "    # Draw Elements\n",
    "    ax.add_patch(bg)\n",
    "    ax.add_patch(rect)\n",
    "    ax.add_patch(rect2)\n",
    "    ax.add_patch(rect3)\n",
    "    # Eventually Replace with Cool Things\n",
    "    ax.set_xlim(0, dim)\n",
    "    ax.set_ylim(dim, 0)\n",
    "\n",
    "    print(f\"Size: {dim:.2f}\")\n",
    "\n",
    "    plt.show()"
   ]
  },
  {
   "cell_type": "code",
   "execution_count": 5,
   "id": "7b44ed98",
   "metadata": {},
   "outputs": [
    {
     "data": {
      "application/vnd.jupyter.widget-view+json": {
       "model_id": "be663f673da143e7b60fc47c4e4efc5f",
       "version_major": 2,
       "version_minor": 0
      },
      "text/plain": [
       "interactive(children=(FloatSlider(value=3.0, description='width', max=10.0, min=1.0, step=0.5), FloatSlider(va…"
      ]
     },
     "metadata": {},
     "output_type": "display_data"
    },
    {
     "data": {
      "text/plain": [
       "<function __main__.plot_rectangle(width, height)>"
      ]
     },
     "execution_count": 5,
     "metadata": {},
     "output_type": "execute_result"
    }
   ],
   "source": [
    "interact(plot_rectangle,\n",
    "         width=FloatSlider(min=1, max=10, step=0.5, value=3),\n",
    "         height=FloatSlider(min=1, max=10, step=0.5, value=2))"
   ]
  },
  {
   "cell_type": "code",
   "execution_count": null,
   "id": "48e20521",
   "metadata": {},
   "outputs": [],
   "source": []
  },
  {
   "cell_type": "code",
   "execution_count": null,
   "id": "59215589",
   "metadata": {},
   "outputs": [],
   "source": []
  },
  {
   "cell_type": "code",
   "execution_count": null,
   "id": "dcb6ca0b",
   "metadata": {},
   "outputs": [],
   "source": []
  },
  {
   "cell_type": "code",
   "execution_count": null,
   "id": "8ce6f6c5",
   "metadata": {},
   "outputs": [],
   "source": []
  },
  {
   "cell_type": "code",
   "execution_count": null,
   "id": "b1029e20",
   "metadata": {},
   "outputs": [],
   "source": []
  },
  {
   "cell_type": "code",
   "execution_count": null,
   "id": "3ccd310e",
   "metadata": {},
   "outputs": [],
   "source": []
  }
 ],
 "metadata": {
  "kernelspec": {
   "display_name": "Python 3 (ipykernel)",
   "language": "python",
   "name": "python3"
  },
  "language_info": {
   "codemirror_mode": {
    "name": "ipython",
    "version": 3
   },
   "file_extension": ".py",
   "mimetype": "text/x-python",
   "name": "python",
   "nbconvert_exporter": "python",
   "pygments_lexer": "ipython3",
   "version": "3.9.15"
  }
 },
 "nbformat": 4,
 "nbformat_minor": 5
}
